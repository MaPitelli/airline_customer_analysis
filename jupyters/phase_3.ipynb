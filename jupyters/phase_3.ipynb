{
 "cells": [
  {
   "cell_type": "markdown",
   "metadata": {},
   "source": [
    "# Fase 3: Evaluación de Diferencias en Reservas de Vuelos por Nivel Educativo\n",
    "\n",
    "Objetivo del Ejercicio: Utilizando un conjunto de datos que hemos compartido, se busca evaluar si existen diferencias significativas en el número de vuelos reservados según el nivel educativo de los clientes. Para ello, los pasos que deberas seguir son:\n",
    "\n",
    "1. Preparación de Datos: \n",
    "\n",
    "    - Filtra el conjunto de datos para incluir únicamente las columnas relevantes: 'Flights Booked' y 'Education'.\n",
    "\n",
    "2. Análisis Descriptivo: \n",
    "\n",
    "    - Agrupa los datos por nivel educativo y calcula estadísticas descriptivas básicas (como el promedio, la desviación estandar, los percentiles) del número de vuelos reservados para cada grupo.\n",
    "\n",
    "3. Prueba Estadística:\n",
    "\n",
    "    - Realiza una prueba de A/B testing para determinar si existe una diferencia significativa en el número de vuelos reservados entre los diferentes niveles educativos."
   ]
  },
  {
   "cell_type": "markdown",
   "metadata": {},
   "source": [
    "### Importamos las librerías que necesitamos"
   ]
  },
  {
   "cell_type": "code",
   "execution_count": 31,
   "metadata": {},
   "outputs": [],
   "source": [
    "# Tratamiento de datos\n",
    "# -----------------------------------------------------------------------\n",
    "import pandas as pd\n",
    "import numpy as np\n",
    "from src import support as sp\n",
    "\n",
    "# Configuración\n",
    "# -----------------------------------------------------------------------\n",
    "pd.set_option('display.max_columns', None) # para poder visualizar todas las columnas de los DataFrames\n",
    "\n",
    "# Creación de muestras \n",
    "# -----------------------------------------------------------------------\n",
    "from sklearn.model_selection import train_test_split"
   ]
  },
  {
   "cell_type": "code",
   "execution_count": 32,
   "metadata": {},
   "outputs": [],
   "source": [
    "# Cargamos los datos generados en la Fase 1\n",
    "df_combined = pd.read_csv('../data/df_combined.csv', index_col=0)"
   ]
  },
  {
   "cell_type": "code",
   "execution_count": 33,
   "metadata": {},
   "outputs": [
    {
     "data": {
      "text/html": [
       "<div>\n",
       "<style scoped>\n",
       "    .dataframe tbody tr th:only-of-type {\n",
       "        vertical-align: middle;\n",
       "    }\n",
       "\n",
       "    .dataframe tbody tr th {\n",
       "        vertical-align: top;\n",
       "    }\n",
       "\n",
       "    .dataframe thead th {\n",
       "        text-align: right;\n",
       "    }\n",
       "</style>\n",
       "<table border=\"1\" class=\"dataframe\">\n",
       "  <thead>\n",
       "    <tr style=\"text-align: right;\">\n",
       "      <th></th>\n",
       "      <th>loyalty_number</th>\n",
       "      <th>year</th>\n",
       "      <th>month</th>\n",
       "      <th>flights_booked</th>\n",
       "      <th>flights_with_companions</th>\n",
       "      <th>total_flights</th>\n",
       "      <th>distance</th>\n",
       "      <th>points_accumulated</th>\n",
       "      <th>points_redeemed</th>\n",
       "      <th>dollar_cost_points_redeemed</th>\n",
       "      <th>province</th>\n",
       "      <th>city</th>\n",
       "      <th>postal_code</th>\n",
       "      <th>gender</th>\n",
       "      <th>education</th>\n",
       "      <th>salary</th>\n",
       "      <th>marital_status</th>\n",
       "      <th>loyalty_card</th>\n",
       "      <th>clv</th>\n",
       "      <th>enrollment_type</th>\n",
       "      <th>enrollment_year</th>\n",
       "      <th>enrollment_month</th>\n",
       "      <th>cancellation_year</th>\n",
       "      <th>cancellation_month</th>\n",
       "    </tr>\n",
       "  </thead>\n",
       "  <tbody>\n",
       "    <tr>\n",
       "      <th>0</th>\n",
       "      <td>100018</td>\n",
       "      <td>2017</td>\n",
       "      <td>1</td>\n",
       "      <td>3</td>\n",
       "      <td>0</td>\n",
       "      <td>3</td>\n",
       "      <td>1521</td>\n",
       "      <td>152.0</td>\n",
       "      <td>0</td>\n",
       "      <td>0</td>\n",
       "      <td>Alberta</td>\n",
       "      <td>Edmonton</td>\n",
       "      <td>T9G 1W3</td>\n",
       "      <td>Female</td>\n",
       "      <td>Bachelor</td>\n",
       "      <td>92552.0</td>\n",
       "      <td>Married</td>\n",
       "      <td>Aurora</td>\n",
       "      <td>7919.20</td>\n",
       "      <td>Standard</td>\n",
       "      <td>2016</td>\n",
       "      <td>8</td>\n",
       "      <td>NaN</td>\n",
       "      <td>NaN</td>\n",
       "    </tr>\n",
       "    <tr>\n",
       "      <th>1</th>\n",
       "      <td>100102</td>\n",
       "      <td>2017</td>\n",
       "      <td>1</td>\n",
       "      <td>10</td>\n",
       "      <td>4</td>\n",
       "      <td>14</td>\n",
       "      <td>2030</td>\n",
       "      <td>203.0</td>\n",
       "      <td>0</td>\n",
       "      <td>0</td>\n",
       "      <td>Ontario</td>\n",
       "      <td>Toronto</td>\n",
       "      <td>M1R 4K3</td>\n",
       "      <td>Male</td>\n",
       "      <td>College</td>\n",
       "      <td>NaN</td>\n",
       "      <td>Single</td>\n",
       "      <td>Nova</td>\n",
       "      <td>2887.74</td>\n",
       "      <td>Standard</td>\n",
       "      <td>2013</td>\n",
       "      <td>3</td>\n",
       "      <td>NaN</td>\n",
       "      <td>NaN</td>\n",
       "    </tr>\n",
       "    <tr>\n",
       "      <th>2</th>\n",
       "      <td>100140</td>\n",
       "      <td>2017</td>\n",
       "      <td>1</td>\n",
       "      <td>6</td>\n",
       "      <td>0</td>\n",
       "      <td>6</td>\n",
       "      <td>1200</td>\n",
       "      <td>120.0</td>\n",
       "      <td>0</td>\n",
       "      <td>0</td>\n",
       "      <td>British Columbia</td>\n",
       "      <td>Dawson Creek</td>\n",
       "      <td>U5I 4F1</td>\n",
       "      <td>Female</td>\n",
       "      <td>College</td>\n",
       "      <td>NaN</td>\n",
       "      <td>Divorced</td>\n",
       "      <td>Nova</td>\n",
       "      <td>2838.07</td>\n",
       "      <td>Standard</td>\n",
       "      <td>2016</td>\n",
       "      <td>7</td>\n",
       "      <td>NaN</td>\n",
       "      <td>NaN</td>\n",
       "    </tr>\n",
       "  </tbody>\n",
       "</table>\n",
       "</div>"
      ],
      "text/plain": [
       "   loyalty_number  year  month  flights_booked  flights_with_companions  \\\n",
       "0          100018  2017      1               3                        0   \n",
       "1          100102  2017      1              10                        4   \n",
       "2          100140  2017      1               6                        0   \n",
       "\n",
       "   total_flights  distance  points_accumulated  points_redeemed  \\\n",
       "0              3      1521               152.0                0   \n",
       "1             14      2030               203.0                0   \n",
       "2              6      1200               120.0                0   \n",
       "\n",
       "   dollar_cost_points_redeemed          province          city postal_code  \\\n",
       "0                            0           Alberta      Edmonton     T9G 1W3   \n",
       "1                            0           Ontario       Toronto     M1R 4K3   \n",
       "2                            0  British Columbia  Dawson Creek     U5I 4F1   \n",
       "\n",
       "   gender education   salary marital_status loyalty_card      clv  \\\n",
       "0  Female  Bachelor  92552.0        Married       Aurora  7919.20   \n",
       "1    Male   College      NaN         Single         Nova  2887.74   \n",
       "2  Female   College      NaN       Divorced         Nova  2838.07   \n",
       "\n",
       "  enrollment_type  enrollment_year  enrollment_month  cancellation_year  \\\n",
       "0        Standard             2016                 8                NaN   \n",
       "1        Standard             2013                 3                NaN   \n",
       "2        Standard             2016                 7                NaN   \n",
       "\n",
       "   cancellation_month  \n",
       "0                 NaN  \n",
       "1                 NaN  \n",
       "2                 NaN  "
      ]
     },
     "execution_count": 33,
     "metadata": {},
     "output_type": "execute_result"
    }
   ],
   "source": [
    "# Mostramos las primeras filas del DataFrame\n",
    "df_combined.head(3) "
   ]
  },
  {
   "cell_type": "markdown",
   "metadata": {},
   "source": [
    "- Filtra el conjunto de datos para incluir únicamente las columnas relevantes: 'Flights Booked' y 'Education'."
   ]
  },
  {
   "cell_type": "code",
   "execution_count": 41,
   "metadata": {},
   "outputs": [
    {
     "data": {
      "text/plain": [
       "(401688, 2)"
      ]
     },
     "execution_count": 41,
     "metadata": {},
     "output_type": "execute_result"
    }
   ],
   "source": [
    "# Filtrar el conjunto de datos para incluir las columnas 'flights_booked' y 'education'\n",
    "df_filtered = df_combined[['flights_booked', 'education']]\n",
    "df_filtered.shape"
   ]
  },
  {
   "cell_type": "markdown",
   "metadata": {},
   "source": [
    "* Si solo filtramos por esas 2 columnas, luego perdemos la referencia de quien son estos clientes, por lo cuál, filtraremos por 3 columnas"
   ]
  },
  {
   "cell_type": "code",
   "execution_count": 42,
   "metadata": {},
   "outputs": [
    {
     "data": {
      "text/plain": [
       "(401688, 3)"
      ]
     },
     "execution_count": 42,
     "metadata": {},
     "output_type": "execute_result"
    }
   ],
   "source": [
    "# Filtrar el conjunto de datos para incluir las columnas 'loyalty_number', 'flights_booked' y 'education'\n",
    "df_filtered = df_combined[['loyalty_number', 'flights_booked', 'education']]\n",
    "df_filtered.shape"
   ]
  },
  {
   "cell_type": "markdown",
   "metadata": {},
   "source": [
    "- Agrupa los datos por nivel educativo y calcula estadísticas descriptivas básicas (como el promedio, la desviación estandar, los percentiles) del número de vuelos reservados para cada grupo."
   ]
  },
  {
   "cell_type": "code",
   "execution_count": 43,
   "metadata": {},
   "outputs": [
    {
     "data": {
      "text/html": [
       "<div>\n",
       "<style scoped>\n",
       "    .dataframe tbody tr th:only-of-type {\n",
       "        vertical-align: middle;\n",
       "    }\n",
       "\n",
       "    .dataframe tbody tr th {\n",
       "        vertical-align: top;\n",
       "    }\n",
       "\n",
       "    .dataframe thead th {\n",
       "        text-align: right;\n",
       "    }\n",
       "</style>\n",
       "<table border=\"1\" class=\"dataframe\">\n",
       "  <thead>\n",
       "    <tr style=\"text-align: right;\">\n",
       "      <th></th>\n",
       "      <th>count</th>\n",
       "      <th>mean</th>\n",
       "      <th>std</th>\n",
       "      <th>min</th>\n",
       "      <th>25%</th>\n",
       "      <th>50%</th>\n",
       "      <th>75%</th>\n",
       "      <th>max</th>\n",
       "    </tr>\n",
       "    <tr>\n",
       "      <th>education</th>\n",
       "      <th></th>\n",
       "      <th></th>\n",
       "      <th></th>\n",
       "      <th></th>\n",
       "      <th></th>\n",
       "      <th></th>\n",
       "      <th></th>\n",
       "      <th></th>\n",
       "    </tr>\n",
       "  </thead>\n",
       "  <tbody>\n",
       "    <tr>\n",
       "      <th>Bachelor</th>\n",
       "      <td>251400.0</td>\n",
       "      <td>4.090354</td>\n",
       "      <td>5.214194</td>\n",
       "      <td>0.0</td>\n",
       "      <td>0.0</td>\n",
       "      <td>1.0</td>\n",
       "      <td>8.0</td>\n",
       "      <td>21.0</td>\n",
       "    </tr>\n",
       "    <tr>\n",
       "      <th>College</th>\n",
       "      <td>101712.0</td>\n",
       "      <td>4.145656</td>\n",
       "      <td>5.237434</td>\n",
       "      <td>0.0</td>\n",
       "      <td>0.0</td>\n",
       "      <td>1.0</td>\n",
       "      <td>8.0</td>\n",
       "      <td>21.0</td>\n",
       "    </tr>\n",
       "    <tr>\n",
       "      <th>Doctor</th>\n",
       "      <td>17616.0</td>\n",
       "      <td>4.149296</td>\n",
       "      <td>5.246376</td>\n",
       "      <td>0.0</td>\n",
       "      <td>0.0</td>\n",
       "      <td>1.0</td>\n",
       "      <td>8.0</td>\n",
       "      <td>21.0</td>\n",
       "    </tr>\n",
       "    <tr>\n",
       "      <th>High School or Below</th>\n",
       "      <td>18768.0</td>\n",
       "      <td>4.142210</td>\n",
       "      <td>5.229254</td>\n",
       "      <td>0.0</td>\n",
       "      <td>0.0</td>\n",
       "      <td>1.0</td>\n",
       "      <td>8.0</td>\n",
       "      <td>21.0</td>\n",
       "    </tr>\n",
       "    <tr>\n",
       "      <th>Master</th>\n",
       "      <td>12192.0</td>\n",
       "      <td>4.167815</td>\n",
       "      <td>5.204100</td>\n",
       "      <td>0.0</td>\n",
       "      <td>0.0</td>\n",
       "      <td>1.0</td>\n",
       "      <td>8.0</td>\n",
       "      <td>21.0</td>\n",
       "    </tr>\n",
       "  </tbody>\n",
       "</table>\n",
       "</div>"
      ],
      "text/plain": [
       "                         count      mean       std  min  25%  50%  75%   max\n",
       "education                                                                   \n",
       "Bachelor              251400.0  4.090354  5.214194  0.0  0.0  1.0  8.0  21.0\n",
       "College               101712.0  4.145656  5.237434  0.0  0.0  1.0  8.0  21.0\n",
       "Doctor                 17616.0  4.149296  5.246376  0.0  0.0  1.0  8.0  21.0\n",
       "High School or Below   18768.0  4.142210  5.229254  0.0  0.0  1.0  8.0  21.0\n",
       "Master                 12192.0  4.167815  5.204100  0.0  0.0  1.0  8.0  21.0"
      ]
     },
     "execution_count": 43,
     "metadata": {},
     "output_type": "execute_result"
    }
   ],
   "source": [
    "df_filtered.groupby('education')['flights_booked'].describe()"
   ]
  },
  {
   "cell_type": "markdown",
   "metadata": {},
   "source": [
    "- Realiza una prueba de A/B testing para determinar si existe una diferencia significativa en el número de vuelos reservados entre los diferentes niveles educativos."
   ]
  },
  {
   "cell_type": "markdown",
   "metadata": {},
   "source": [
    "Lo primero que debemos hacer en un A/B testing es verificar que los datos son coherentes y están listos. En este caso, ya tenemos este paso concluído."
   ]
  },
  {
   "cell_type": "markdown",
   "metadata": {},
   "source": [
    "Dado que cada cliente tiene 24 entradas (una por cada mes en dos años), vamos a calcular el promedio mensual de vuelos reservados por cada cliente. Así tendremos una sola fila por cliente con la media de vuelos reservados."
   ]
  },
  {
   "cell_type": "code",
   "execution_count": 44,
   "metadata": {},
   "outputs": [
    {
     "data": {
      "text/html": [
       "<div>\n",
       "<style scoped>\n",
       "    .dataframe tbody tr th:only-of-type {\n",
       "        vertical-align: middle;\n",
       "    }\n",
       "\n",
       "    .dataframe tbody tr th {\n",
       "        vertical-align: top;\n",
       "    }\n",
       "\n",
       "    .dataframe thead th {\n",
       "        text-align: right;\n",
       "    }\n",
       "</style>\n",
       "<table border=\"1\" class=\"dataframe\">\n",
       "  <thead>\n",
       "    <tr style=\"text-align: right;\">\n",
       "      <th></th>\n",
       "      <th>loyalty_number</th>\n",
       "      <th>education</th>\n",
       "      <th>flights_booked</th>\n",
       "    </tr>\n",
       "  </thead>\n",
       "  <tbody>\n",
       "    <tr>\n",
       "      <th>16732</th>\n",
       "      <td>999902</td>\n",
       "      <td>College</td>\n",
       "      <td>7.416667</td>\n",
       "    </tr>\n",
       "    <tr>\n",
       "      <th>16733</th>\n",
       "      <td>999911</td>\n",
       "      <td>Doctor</td>\n",
       "      <td>0.000000</td>\n",
       "    </tr>\n",
       "    <tr>\n",
       "      <th>16734</th>\n",
       "      <td>999940</td>\n",
       "      <td>Bachelor</td>\n",
       "      <td>2.625000</td>\n",
       "    </tr>\n",
       "    <tr>\n",
       "      <th>16735</th>\n",
       "      <td>999982</td>\n",
       "      <td>College</td>\n",
       "      <td>0.916667</td>\n",
       "    </tr>\n",
       "    <tr>\n",
       "      <th>16736</th>\n",
       "      <td>999986</td>\n",
       "      <td>Bachelor</td>\n",
       "      <td>5.041667</td>\n",
       "    </tr>\n",
       "  </tbody>\n",
       "</table>\n",
       "</div>"
      ],
      "text/plain": [
       "       loyalty_number education  flights_booked\n",
       "16732          999902   College        7.416667\n",
       "16733          999911    Doctor        0.000000\n",
       "16734          999940  Bachelor        2.625000\n",
       "16735          999982   College        0.916667\n",
       "16736          999986  Bachelor        5.041667"
      ]
     },
     "execution_count": 44,
     "metadata": {},
     "output_type": "execute_result"
    }
   ],
   "source": [
    "# Agrupamos por loyalty_number y education y calculamos la media de vuelos reservados por cada cliente\n",
    "df_filtered_ab = df_filtered.groupby(['loyalty_number', 'education'])['flights_booked'].mean().reset_index() \n",
    "df_filtered_ab.tail()"
   ]
  },
  {
   "cell_type": "markdown",
   "metadata": {},
   "source": [
    "### Ahora vamos a crear nuestro test_group, categorizando la columna education en 2 grupos: \n",
    "    * GRUPO A: Clientes con nivel de educación inferior: High School or Below y College\n",
    "    * GRUPO B: Clientes con nivel de educación superior: Bachelor, Doctor y Master"
   ]
  },
  {
   "cell_type": "markdown",
   "metadata": {},
   "source": [
    "El orden de los niveles de educación de menor a mayor es:\n",
    "\n",
    "1. **High School or Below** (Secundaria o menos)\n",
    "2. **College** (Universidad, generalmente implica que no se completó un título universitario)\n",
    "3. **Bachelor** (Licenciatura)\n",
    "4. **Master** (Máster)\n",
    "5. **Doctor** (Doctorado)"
   ]
  },
  {
   "cell_type": "code",
   "execution_count": 46,
   "metadata": {},
   "outputs": [
    {
     "data": {
      "text/plain": [
       "education\n",
       "Bachelor                10475\n",
       "College                  4238\n",
       "High School or Below      782\n",
       "Doctor                    734\n",
       "Master                    508\n",
       "Name: count, dtype: int64"
      ]
     },
     "execution_count": 46,
     "metadata": {},
     "output_type": "execute_result"
    }
   ],
   "source": [
    "df_filtered_ab.education.value_counts() # Miramos como están distribuidos los niveles de educación"
   ]
  },
  {
   "cell_type": "code",
   "execution_count": 45,
   "metadata": {},
   "outputs": [],
   "source": [
    "# Usamos el apply para aplicar nuestra función que categoriza los distintos niveles de education\n",
    "group_a = ['High School or Below', 'College']\n",
    "group_b = ['Bachelor', 'Master', 'Doctor']\n",
    "\n",
    "df_filtered_ab['test_group'] = df_filtered_ab['education'].apply(lambda x: sp.categorize(x, group_a, group_b))"
   ]
  },
  {
   "cell_type": "code",
   "execution_count": 48,
   "metadata": {},
   "outputs": [
    {
     "data": {
      "text/html": [
       "<div>\n",
       "<style scoped>\n",
       "    .dataframe tbody tr th:only-of-type {\n",
       "        vertical-align: middle;\n",
       "    }\n",
       "\n",
       "    .dataframe tbody tr th {\n",
       "        vertical-align: top;\n",
       "    }\n",
       "\n",
       "    .dataframe thead th {\n",
       "        text-align: right;\n",
       "    }\n",
       "</style>\n",
       "<table border=\"1\" class=\"dataframe\">\n",
       "  <thead>\n",
       "    <tr style=\"text-align: right;\">\n",
       "      <th></th>\n",
       "      <th>loyalty_number</th>\n",
       "      <th>education</th>\n",
       "      <th>flights_booked</th>\n",
       "      <th>test_group</th>\n",
       "    </tr>\n",
       "  </thead>\n",
       "  <tbody>\n",
       "    <tr>\n",
       "      <th>8629</th>\n",
       "      <td>564813</td>\n",
       "      <td>Bachelor</td>\n",
       "      <td>0.916667</td>\n",
       "      <td>group_b</td>\n",
       "    </tr>\n",
       "    <tr>\n",
       "      <th>5432</th>\n",
       "      <td>393975</td>\n",
       "      <td>Bachelor</td>\n",
       "      <td>0.000000</td>\n",
       "      <td>group_b</td>\n",
       "    </tr>\n",
       "    <tr>\n",
       "      <th>2483</th>\n",
       "      <td>235220</td>\n",
       "      <td>High School or Below</td>\n",
       "      <td>0.000000</td>\n",
       "      <td>group_a</td>\n",
       "    </tr>\n",
       "    <tr>\n",
       "      <th>6763</th>\n",
       "      <td>464447</td>\n",
       "      <td>College</td>\n",
       "      <td>5.375000</td>\n",
       "      <td>group_a</td>\n",
       "    </tr>\n",
       "    <tr>\n",
       "      <th>4266</th>\n",
       "      <td>330278</td>\n",
       "      <td>Doctor</td>\n",
       "      <td>4.083333</td>\n",
       "      <td>group_b</td>\n",
       "    </tr>\n",
       "  </tbody>\n",
       "</table>\n",
       "</div>"
      ],
      "text/plain": [
       "      loyalty_number             education  flights_booked test_group\n",
       "8629          564813              Bachelor        0.916667    group_b\n",
       "5432          393975              Bachelor        0.000000    group_b\n",
       "2483          235220  High School or Below        0.000000    group_a\n",
       "6763          464447               College        5.375000    group_a\n",
       "4266          330278                Doctor        4.083333    group_b"
      ]
     },
     "execution_count": 48,
     "metadata": {},
     "output_type": "execute_result"
    }
   ],
   "source": [
    "df_filtered_ab.sample(5)"
   ]
  },
  {
   "cell_type": "markdown",
   "metadata": {},
   "source": [
    "### Planteamos las hipótesis\n",
    "\n",
    "- Hipótesis nula (H0): No existe una diferencia significativa en el número de vuelos reservados entre los diferentes niveles educativos de los grupos A y B.\n",
    "- Hipótesis alternativa (H1): Existe una diferencia significativa en el número de vuelos reservados entre los diferentes niveles educativos de los grupos A y B."
   ]
  },
  {
   "cell_type": "markdown",
   "metadata": {},
   "source": [
    "### Definimos si es un problema de medias o de proporciones"
   ]
  },
  {
   "cell_type": "code",
   "execution_count": 50,
   "metadata": {},
   "outputs": [
    {
     "data": {
      "text/plain": [
       "(225, 2)"
      ]
     },
     "execution_count": 50,
     "metadata": {},
     "output_type": "execute_result"
    }
   ],
   "source": [
    "pd.crosstab(df_filtered_ab.flights_booked, df_filtered_ab.test_group).shape # Con una crosstab confirmamos que es un problema de médias, nuestra crosstab tiene 225 filas."
   ]
  },
  {
   "cell_type": "code",
   "execution_count": 51,
   "metadata": {},
   "outputs": [
    {
     "data": {
      "text/plain": [
       "'means'"
      ]
     },
     "execution_count": 51,
     "metadata": {},
     "output_type": "execute_result"
    }
   ],
   "source": [
    "sp.determine_problem_type(df_filtered_ab, 'flights_booked') # Tenemos una función que también nos hace esta comprobación "
   ]
  },
  {
   "cell_type": "markdown",
   "metadata": {},
   "source": [
    "### Aplicamos una prueba de normalidad en nuestra métrica"
   ]
  },
  {
   "cell_type": "code",
   "execution_count": 52,
   "metadata": {},
   "outputs": [
    {
     "name": "stdout",
     "output_type": "stream",
     "text": [
      "The data for the metric 'flights_booked' does not follow a normal distribution (p-value = 0.0000).\n"
     ]
    },
    {
     "name": "stderr",
     "output_type": "stream",
     "text": [
      "/opt/anaconda3/lib/python3.11/site-packages/scipy/stats/_morestats.py:1882: UserWarning: p-value may not be accurate for N > 5000.\n",
      "  warnings.warn(\"p-value may not be accurate for N > 5000.\")\n"
     ]
    },
    {
     "data": {
      "text/plain": [
       "(0.9311605095863342, 0.0)"
      ]
     },
     "execution_count": 52,
     "metadata": {},
     "output_type": "execute_result"
    }
   ],
   "source": [
    "sp.normality_test(df_filtered_ab, 'flights_booked')"
   ]
  },
  {
   "cell_type": "markdown",
   "metadata": {},
   "source": [
    "* Vemos que no podemos tener el p-valor en cuenta debido al alto número del conjunto de datos. \n",
    "* Para solucionar esto y mejorar la precisión de nuestro análisis, vamos a separar muestras estratificadas y mas pequeñas del conjunto de datos."
   ]
  },
  {
   "cell_type": "code",
   "execution_count": 53,
   "metadata": {},
   "outputs": [
    {
     "data": {
      "text/html": [
       "<div>\n",
       "<style scoped>\n",
       "    .dataframe tbody tr th:only-of-type {\n",
       "        vertical-align: middle;\n",
       "    }\n",
       "\n",
       "    .dataframe tbody tr th {\n",
       "        vertical-align: top;\n",
       "    }\n",
       "\n",
       "    .dataframe thead th {\n",
       "        text-align: right;\n",
       "    }\n",
       "</style>\n",
       "<table border=\"1\" class=\"dataframe\">\n",
       "  <thead>\n",
       "    <tr style=\"text-align: right;\">\n",
       "      <th></th>\n",
       "      <th>loyalty_number</th>\n",
       "      <th>education</th>\n",
       "      <th>flights_booked</th>\n",
       "    </tr>\n",
       "  </thead>\n",
       "  <tbody>\n",
       "    <tr>\n",
       "      <th>0</th>\n",
       "      <td>100018</td>\n",
       "      <td>Bachelor</td>\n",
       "      <td>6.541667</td>\n",
       "    </tr>\n",
       "    <tr>\n",
       "      <th>1</th>\n",
       "      <td>100102</td>\n",
       "      <td>College</td>\n",
       "      <td>7.208333</td>\n",
       "    </tr>\n",
       "  </tbody>\n",
       "</table>\n",
       "</div>"
      ],
      "text/plain": [
       "   loyalty_number education  flights_booked\n",
       "0          100018  Bachelor        6.541667\n",
       "1          100102   College        7.208333"
      ]
     },
     "execution_count": 53,
     "metadata": {},
     "output_type": "execute_result"
    }
   ],
   "source": [
    "# Vamos a dropar la columna de categorias que habíamos creado anteriormente\n",
    "df_filtered_ab.drop(columns=['test_group'], inplace=True)\n",
    "df_filtered_ab.head(2)"
   ]
  },
  {
   "cell_type": "code",
   "execution_count": 54,
   "metadata": {},
   "outputs": [
    {
     "data": {
      "text/plain": [
       "education\n",
       "Bachelor                200\n",
       "College                 200\n",
       "Master                  200\n",
       "High School or Below    200\n",
       "Doctor                  200\n",
       "Name: count, dtype: int64"
      ]
     },
     "execution_count": 54,
     "metadata": {},
     "output_type": "execute_result"
    }
   ],
   "source": [
    "# Definimos el tamaño de la muestra deseada\n",
    "sample_size = 1000  # Ajusta el tamaño según sea necesario\n",
    "\n",
    "# Obtenemos las categorías únicas\n",
    "education_categories = df_filtered_ab.education.unique()\n",
    "\n",
    "# Creamos una muestra equilibrada para cada categoría\n",
    "sampled_dfs = [] # Creamos una lista que guardará los dfs con muestras de cada categoria\n",
    "for category in education_categories:\n",
    "    df_category = df_filtered_ab[df_filtered_ab['education'] == category] # Creamos un df con una categoria de educación\n",
    "    sample_size_category = min(len(df_category), sample_size // len(education_categories)) # La función min compara dos valores y devuelve el menor. Esto garantiza que no intentemos tomar más muestras de las que están disponibles en la categoría\n",
    "    sampled_df_category = df_category.sample(n=sample_size_category, random_state=42) # sample es un método de la librería train_test_split para crear muestras, le pasamos el número de muestras calculado previamente\n",
    "    sampled_dfs.append(sampled_df_category)\n",
    "\n",
    "# Concatenamos todas las muestras\n",
    "df_sampled = pd.concat(sampled_dfs)\n",
    "df_sampled.education.value_counts()"
   ]
  },
  {
   "cell_type": "code",
   "execution_count": 55,
   "metadata": {},
   "outputs": [
    {
     "data": {
      "text/html": [
       "<div>\n",
       "<style scoped>\n",
       "    .dataframe tbody tr th:only-of-type {\n",
       "        vertical-align: middle;\n",
       "    }\n",
       "\n",
       "    .dataframe tbody tr th {\n",
       "        vertical-align: top;\n",
       "    }\n",
       "\n",
       "    .dataframe thead th {\n",
       "        text-align: right;\n",
       "    }\n",
       "</style>\n",
       "<table border=\"1\" class=\"dataframe\">\n",
       "  <thead>\n",
       "    <tr style=\"text-align: right;\">\n",
       "      <th></th>\n",
       "      <th>loyalty_number</th>\n",
       "      <th>education</th>\n",
       "      <th>flights_booked</th>\n",
       "    </tr>\n",
       "  </thead>\n",
       "  <tbody>\n",
       "    <tr>\n",
       "      <th>8256</th>\n",
       "      <td>544690</td>\n",
       "      <td>Bachelor</td>\n",
       "      <td>4.666667</td>\n",
       "    </tr>\n",
       "    <tr>\n",
       "      <th>16373</th>\n",
       "      <td>979330</td>\n",
       "      <td>Bachelor</td>\n",
       "      <td>1.500000</td>\n",
       "    </tr>\n",
       "    <tr>\n",
       "      <th>14552</th>\n",
       "      <td>880619</td>\n",
       "      <td>Bachelor</td>\n",
       "      <td>2.000000</td>\n",
       "    </tr>\n",
       "    <tr>\n",
       "      <th>6914</th>\n",
       "      <td>472674</td>\n",
       "      <td>Bachelor</td>\n",
       "      <td>6.625000</td>\n",
       "    </tr>\n",
       "    <tr>\n",
       "      <th>5000</th>\n",
       "      <td>370090</td>\n",
       "      <td>Bachelor</td>\n",
       "      <td>5.416667</td>\n",
       "    </tr>\n",
       "  </tbody>\n",
       "</table>\n",
       "</div>"
      ],
      "text/plain": [
       "       loyalty_number education  flights_booked\n",
       "8256           544690  Bachelor        4.666667\n",
       "16373          979330  Bachelor        1.500000\n",
       "14552          880619  Bachelor        2.000000\n",
       "6914           472674  Bachelor        6.625000\n",
       "5000           370090  Bachelor        5.416667"
      ]
     },
     "execution_count": 55,
     "metadata": {},
     "output_type": "execute_result"
    }
   ],
   "source": [
    "df_sampled.head()"
   ]
  },
  {
   "cell_type": "code",
   "execution_count": 56,
   "metadata": {},
   "outputs": [],
   "source": [
    "# Volvemos a crear nuestros grupos ahora que tenemos una muestra mas pequeña\n",
    "group_a = ['High School or Below', 'College']\n",
    "group_b = ['Bachelor', 'Master', 'Doctor']\n",
    "\n",
    "df_sampled['test_group'] = df_sampled['education'].apply(lambda x: sp.categorize(x, group_a, group_b))"
   ]
  },
  {
   "cell_type": "code",
   "execution_count": 57,
   "metadata": {},
   "outputs": [
    {
     "data": {
      "text/html": [
       "<div>\n",
       "<style scoped>\n",
       "    .dataframe tbody tr th:only-of-type {\n",
       "        vertical-align: middle;\n",
       "    }\n",
       "\n",
       "    .dataframe tbody tr th {\n",
       "        vertical-align: top;\n",
       "    }\n",
       "\n",
       "    .dataframe thead th {\n",
       "        text-align: right;\n",
       "    }\n",
       "</style>\n",
       "<table border=\"1\" class=\"dataframe\">\n",
       "  <thead>\n",
       "    <tr style=\"text-align: right;\">\n",
       "      <th></th>\n",
       "      <th>loyalty_number</th>\n",
       "      <th>education</th>\n",
       "      <th>flights_booked</th>\n",
       "      <th>test_group</th>\n",
       "    </tr>\n",
       "  </thead>\n",
       "  <tbody>\n",
       "    <tr>\n",
       "      <th>9163</th>\n",
       "      <td>592251</td>\n",
       "      <td>Bachelor</td>\n",
       "      <td>5.083333</td>\n",
       "      <td>group_b</td>\n",
       "    </tr>\n",
       "    <tr>\n",
       "      <th>9781</th>\n",
       "      <td>624463</td>\n",
       "      <td>High School or Below</td>\n",
       "      <td>5.083333</td>\n",
       "      <td>group_a</td>\n",
       "    </tr>\n",
       "    <tr>\n",
       "      <th>13088</th>\n",
       "      <td>800800</td>\n",
       "      <td>College</td>\n",
       "      <td>4.750000</td>\n",
       "      <td>group_a</td>\n",
       "    </tr>\n",
       "    <tr>\n",
       "      <th>15774</th>\n",
       "      <td>948325</td>\n",
       "      <td>Bachelor</td>\n",
       "      <td>3.458333</td>\n",
       "      <td>group_b</td>\n",
       "    </tr>\n",
       "    <tr>\n",
       "      <th>5465</th>\n",
       "      <td>395871</td>\n",
       "      <td>Master</td>\n",
       "      <td>4.625000</td>\n",
       "      <td>group_b</td>\n",
       "    </tr>\n",
       "  </tbody>\n",
       "</table>\n",
       "</div>"
      ],
      "text/plain": [
       "       loyalty_number             education  flights_booked test_group\n",
       "9163           592251              Bachelor        5.083333    group_b\n",
       "9781           624463  High School or Below        5.083333    group_a\n",
       "13088          800800               College        4.750000    group_a\n",
       "15774          948325              Bachelor        3.458333    group_b\n",
       "5465           395871                Master        4.625000    group_b"
      ]
     },
     "execution_count": 57,
     "metadata": {},
     "output_type": "execute_result"
    }
   ],
   "source": [
    "df_sampled.sample(5)"
   ]
  },
  {
   "cell_type": "code",
   "execution_count": 58,
   "metadata": {},
   "outputs": [
    {
     "data": {
      "text/plain": [
       "(1000, 4)"
      ]
     },
     "execution_count": 58,
     "metadata": {},
     "output_type": "execute_result"
    }
   ],
   "source": [
    "df_sampled.shape"
   ]
  },
  {
   "cell_type": "code",
   "execution_count": 59,
   "metadata": {},
   "outputs": [
    {
     "name": "stdout",
     "output_type": "stream",
     "text": [
      "The data for the metric 'flights_booked' does not follow a normal distribution (p-value = 0.0000).\n"
     ]
    },
    {
     "data": {
      "text/plain": [
       "(0.9289609789848328, 2.3417810297770827e-21)"
      ]
     },
     "execution_count": 59,
     "metadata": {},
     "output_type": "execute_result"
    }
   ],
   "source": [
    "# Volvemos a aplicar la prueba de normalidad en el df_sample\n",
    "sp.normality_test(df_sampled, 'flights_booked')"
   ]
  },
  {
   "cell_type": "markdown",
   "metadata": {},
   "source": [
    "Hemos obtenido un p-valor distinto al anterior, pero igualmente concluimos que los datos no siguen una distribución normal, por lo tanto usaremos una prueba no paramétrica"
   ]
  },
  {
   "cell_type": "code",
   "execution_count": 60,
   "metadata": {},
   "outputs": [
    {
     "name": "stdout",
     "output_type": "stream",
     "text": [
      "For the metric 'flights_booked', the medians are the same (p-value = 0.7465).\n"
     ]
    }
   ],
   "source": [
    "sp.mann_whitney_test(df_sampled, ['flights_booked'], 'group_a', 'group_b')"
   ]
  },
  {
   "cell_type": "markdown",
   "metadata": {},
   "source": [
    "### Interpretación de Resultados de la Prueba de Mann-Whitney U\n",
    "\n",
    "**Métrica Evaluada:** `flights_booked`\n",
    "\n",
    "**Resultado de la Prueba:**\n",
    "- **p-value:** 0.7465\n",
    "\n",
    "**Hipótesis:**\n",
    "- **Hipótesis nula (H0):** No existe una diferencia significativa en el número de vuelos reservados entre los diferentes niveles educativos de los grupos A y B.\n",
    "- **Hipótesis alternativa (H1):** Existe una diferencia significativa en el número de vuelos reservados entre los diferentes niveles educativos de los grupos A y B.\n",
    "\n",
    "**Interpretación:**\n",
    "\n",
    "El resultado de la prueba de Mann-Whitney U indica un p-value de 0.7465. Dado que este valor es considerablemente mayor que el nivel de significancia comúnmente aceptado de 0.05, no rechazamos la hipótesis nula.\n",
    "\n",
    "**Conclusión:**\n",
    "\n",
    "Con un p-value de 0.7465, no encontramos evidencia suficiente para afirmar que existe una diferencia significativa en el número de vuelos reservados entre los diferentes niveles educativos de los grupos A y B. Por lo tanto, según los datos analizados, no hay una diferencia significativa en el número de vuelos reservados entre estos grupos. Esto sugiere que el nivel educativo no tiene un impacto significativo en la cantidad de vuelos reservados por los clientes en los grupos comparados.\n",
    "\n",
    "---"
   ]
  },
  {
   "cell_type": "markdown",
   "metadata": {},
   "source": [
    "Podríamos seguir profundizando este análisis y realizando otros A/B testing cambiando las categorias educativas que pertenecen a los grupos A y B, o incluso podríamos realizar pruebas con otras métricas distintas. "
   ]
  }
 ],
 "metadata": {
  "kernelspec": {
   "display_name": "base",
   "language": "python",
   "name": "python3"
  },
  "language_info": {
   "codemirror_mode": {
    "name": "ipython",
    "version": 3
   },
   "file_extension": ".py",
   "mimetype": "text/x-python",
   "name": "python",
   "nbconvert_exporter": "python",
   "pygments_lexer": "ipython3",
   "version": "3.11.9"
  }
 },
 "nbformat": 4,
 "nbformat_minor": 2
}
